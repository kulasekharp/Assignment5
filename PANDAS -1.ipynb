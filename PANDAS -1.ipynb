{
 "cells": [
  {
   "cell_type": "code",
   "execution_count": 2,
   "metadata": {},
   "outputs": [
    {
     "name": "stdout",
     "output_type": "stream",
     "text": [
      "   X    Y\n",
      "0  7  1.0\n",
      "1  2  2.0\n",
      "2  0  0.0\n",
      "3  3  1.0\n",
      "4  4  2.0\n",
      "5  2  3.0\n",
      "6  5  4.0\n",
      "7  0  0.0\n",
      "8  3  1.0\n",
      "9  4  2.0\n"
     ]
    }
   ],
   "source": [
    "# 1) How-to-count-distance-to-the-previous-zero For each value, count the difference of the distance from the previous zero\n",
    "# (or the start of the Series, whichever is closer) and if there are no previous zeros,print the position\n",
    "# Consider a DataFrame df where there is an integer column {'X':[7, 2, 0, 3, 4, 2, 5, 0, 3, 4]}\n",
    "# The values should therefore be [1, 2, 0, 1, 2, 3, 4, 0, 1, 2]. Make this a new column 'Y'.\n",
    "# import pandas as pd\n",
    "# df = pd.DataFrame({'X': [7, 2, 0, 3, 4, 2, 5, 0, 3, 4]})\n",
    "#\n",
    "\n",
    "import pandas as pd\n",
    "import numpy as np\n",
    "\n",
    "df = pd.DataFrame({'X': [7, 2, 0, 3, 4, 2, 5, 0, 3, 4]})\n",
    "x = (df['X'] != 0).cumsum()\n",
    "y = x != x.shift()\n",
    "\n",
    "df['Y'] = y.groupby((y != y.shift()).cumsum()).cumsum()\n",
    "\n",
    "x = (df['X'] != 0).cumsum()\n",
    "y = x != x.shift()\n",
    "\n",
    "df['Y'] = y.groupby((y != y.shift()).cumsum()).cumsum()\n",
    "\n",
    "print(df)"
   ]
  },
  {
   "cell_type": "code",
   "execution_count": 4,
   "metadata": {},
   "outputs": [
    {
     "name": "stdout",
     "output_type": "stream",
     "text": [
      "2015-01-01    0.836742\n",
      "2015-01-02    0.401166\n",
      "2015-01-03    0.705688\n",
      "2015-01-04    0.857717\n",
      "2015-01-05    0.438336\n",
      "2015-01-06    0.745778\n",
      "2015-01-07    0.413549\n",
      "2015-01-08    0.963724\n",
      "2015-01-09    0.798428\n",
      "2015-01-10    0.462356\n",
      "2015-01-11    0.016015\n",
      "2015-01-12    0.272389\n",
      "2015-01-13    0.329839\n",
      "2015-01-14    0.378901\n",
      "2015-01-15    0.160134\n",
      "2015-01-16    0.491532\n",
      "2015-01-17    0.874380\n",
      "2015-01-18    0.377344\n",
      "2015-01-19    0.422617\n",
      "2015-01-20    0.865825\n",
      "2015-01-21    0.650988\n",
      "2015-01-22    0.192885\n",
      "2015-01-23    0.559651\n",
      "2015-01-24    0.507608\n",
      "2015-01-25    0.882884\n",
      "2015-01-26    0.067345\n",
      "2015-01-27    0.127912\n",
      "2015-01-28    0.583045\n",
      "2015-01-29    0.860460\n",
      "2015-01-30    0.246131\n",
      "                ...   \n",
      "2015-12-02    0.906090\n",
      "2015-12-03    0.552326\n",
      "2015-12-04    0.892349\n",
      "2015-12-05    0.484024\n",
      "2015-12-06    0.266246\n",
      "2015-12-07    0.502677\n",
      "2015-12-08    0.316814\n",
      "2015-12-09    0.711774\n",
      "2015-12-10    0.350146\n",
      "2015-12-11    0.109783\n",
      "2015-12-12    0.716544\n",
      "2015-12-13    0.195898\n",
      "2015-12-14    0.780188\n",
      "2015-12-15    0.722238\n",
      "2015-12-16    0.857158\n",
      "2015-12-17    0.365301\n",
      "2015-12-18    0.410859\n",
      "2015-12-19    0.737668\n",
      "2015-12-20    0.239626\n",
      "2015-12-21    0.118479\n",
      "2015-12-22    0.401388\n",
      "2015-12-23    0.760090\n",
      "2015-12-24    0.285250\n",
      "2015-12-25    0.531979\n",
      "2015-12-26    0.504066\n",
      "2015-12-27    0.900147\n",
      "2015-12-28    0.594278\n",
      "2015-12-29    0.837902\n",
      "2015-12-30    0.824277\n",
      "2015-12-31    0.948456\n",
      "Freq: D, Length: 365, dtype: float64\n"
     ]
    }
   ],
   "source": [
    "# Create a DatetimeIndex that contains each business day of 2015 and use it to index a Series of random numbers\n",
    "\n",
    "datetimeindex = pd.date_range(start='2015-01-01', end='2015-12-31')\n",
    "s = pd.Series(np.random.rand(len(datetimeindex)),index=datetimeindex)\n",
    "print(s)"
   ]
  },
  {
   "cell_type": "code",
   "execution_count": 6,
   "metadata": {},
   "outputs": [
    {
     "data": {
      "text/plain": [
       "28.281235998293724"
      ]
     },
     "execution_count": 6,
     "metadata": {},
     "output_type": "execute_result"
    }
   ],
   "source": [
    "# 3) Find the sum of the values in s for every Wednesday\n",
    "\n",
    "s[datetimeindex.weekday_name == 'Wednesday'].sum()"
   ]
  },
  {
   "cell_type": "code",
   "execution_count": 7,
   "metadata": {},
   "outputs": [
    {
     "data": {
      "text/plain": [
       "2015-01-31    0.523563\n",
       "2015-02-28    0.506524\n",
       "2015-03-31    0.415132\n",
       "2015-04-30    0.534092\n",
       "2015-05-31    0.568101\n",
       "2015-06-30    0.530640\n",
       "2015-07-31    0.482324\n",
       "2015-08-31    0.464488\n",
       "2015-09-30    0.506730\n",
       "2015-10-31    0.491446\n",
       "2015-11-30    0.535717\n",
       "2015-12-31    0.568611\n",
       "Freq: M, dtype: float64"
      ]
     },
     "execution_count": 7,
     "metadata": {},
     "output_type": "execute_result"
    }
   ],
   "source": [
    "# 4) Average For each calendar month\n",
    "\n",
    "s.groupby(pd.Grouper(freq='M')).mean()"
   ]
  },
  {
   "cell_type": "code",
   "execution_count": 9,
   "metadata": {},
   "outputs": [
    {
     "data": {
      "text/plain": [
       "2015-01-31    0.963724\n",
       "2015-05-31    0.987849\n",
       "2015-09-30    0.997893\n",
       "2016-01-31    0.998900\n",
       "dtype: float64"
      ]
     },
     "execution_count": 9,
     "metadata": {},
     "output_type": "execute_result"
    }
   ],
   "source": [
    "# 5) For each group of four consecutive calendar months in s, find the date on which the highest value occurred.\n",
    "\n",
    "s.groupby(pd.Grouper(freq='4M')).max()"
   ]
  },
  {
   "cell_type": "code",
   "execution_count": null,
   "metadata": {},
   "outputs": [],
   "source": []
  }
 ],
 "metadata": {
  "kernelspec": {
   "display_name": "Python 3",
   "language": "python",
   "name": "python3"
  },
  "language_info": {
   "codemirror_mode": {
    "name": "ipython",
    "version": 3
   },
   "file_extension": ".py",
   "mimetype": "text/x-python",
   "name": "python",
   "nbconvert_exporter": "python",
   "pygments_lexer": "ipython3",
   "version": "3.7.0"
  }
 },
 "nbformat": 4,
 "nbformat_minor": 2
}
